{
 "cells": [
  {
   "cell_type": "code",
   "execution_count": 37,
   "metadata": {},
   "outputs": [],
   "source": [
    "import os\n",
    "import pandas as pd"
   ]
  },
  {
   "cell_type": "code",
   "execution_count": 38,
   "metadata": {},
   "outputs": [],
   "source": [
    "!export GOOGLE_APPLICATION_CREDENTIALS=\"/Users/hansel/hackathon/2019/nuveen/Hackathon2019-Nuveen-31af23960028.json\""
   ]
  },
  {
   "cell_type": "code",
   "execution_count": 39,
   "metadata": {},
   "outputs": [],
   "source": [
    "from google.oauth2 import service_account\n",
    "\n",
    "credentials = service_account.Credentials.from_service_account_file(\n",
    "    \"/Users/hansel/hackathon/2019/nuveen/Hackathon2019-Nuveen-31af23960028.json\")\n",
    "\n",
    "scoped_credentials = credentials.with_scopes(\n",
    "    ['https://www.googleapis.com/auth/cloud-platform'])"
   ]
  },
  {
   "cell_type": "code",
   "execution_count": 40,
   "metadata": {},
   "outputs": [],
   "source": [
    "from google.cloud import bigquery"
   ]
  },
  {
   "cell_type": "code",
   "execution_count": 45,
   "metadata": {},
   "outputs": [],
   "source": [
    "credentials = service_account.Credentials.from_service_account_file(\n",
    "    GOOGLE_APPLICATION_CREDENTIALS,\n",
    "    scopes=[\"https://www.googleapis.com/auth/cloud-platform\"],\n",
    ")"
   ]
  },
  {
   "cell_type": "code",
   "execution_count": 60,
   "metadata": {},
   "outputs": [],
   "source": [
    "client = bigquery.Client(\n",
    "    credentials=credentials,\n",
    "    project=\"hackathon2019-nuveen\",\n",
    ")"
   ]
  },
  {
   "cell_type": "code",
   "execution_count": 65,
   "metadata": {},
   "outputs": [],
   "source": [
    "query = \"\"\"\n",
    "   SELECT *  FROM `hackathon2019-nuveen.NuveenDataset.NuveenEvents` LIMIT 10;\n",
    "\"\"\""
   ]
  },
  {
   "cell_type": "code",
   "execution_count": 66,
   "metadata": {},
   "outputs": [],
   "source": [
    "query_job = client.query(query)"
   ]
  },
  {
   "cell_type": "code",
   "execution_count": 67,
   "metadata": {},
   "outputs": [
    {
     "name": "stdout",
     "output_type": "stream",
     "text": [
      "The query data:\n",
      "Row((885133316, 20191108, 201911, 2019, 2019.8438, 'BUS', 'BUSINESS', None, None, None, None, None, 'BUS', None, None, None, None, None, None, None, None, None, None, None, None, 1, '010', '010', '01', 1, 0.0, 25, 3, 20, 0.494506165377914, 0, None, None, None, None, None, None, None, 0, None, None, None, None, None, None, None, 0, None, None, None, None, None, None, None, 20191108000000, 'https://www.businessinsider.com/how-to-set-up-an-ebay-account'), {'GLOBALEVENTID': 0, 'SQLDATE': 1, 'MonthYear': 2, 'Year': 3, 'FractionDate': 4, 'Actor1Code': 5, 'Actor1Name': 6, 'Actor1CountryCode': 7, 'Actor1KnownGroupCode': 8, 'Actor1EthnicCode': 9, 'Actor1Religion1Code': 10, 'Actor1Religion2Code': 11, 'Actor1Type1Code': 12, 'Actor1Type2Code': 13, 'Actor1Type3Code': 14, 'Actor2Code': 15, 'Actor2Name': 16, 'Actor2CountryCode': 17, 'Actor2KnownGroupCode': 18, 'Actor2EthnicCode': 19, 'Actor2Religion1Code': 20, 'Actor2Religion2Code': 21, 'Actor2Type1Code': 22, 'Actor2Type2Code': 23, 'Actor2Type3Code': 24, 'IsRootEvent': 25, 'EventCode': 26, 'EventBaseCode': 27, 'EventRootCode': 28, 'QuadClass': 29, 'GoldsteinScale': 30, 'NumMentions': 31, 'NumSources': 32, 'NumArticles': 33, 'AvgTone': 34, 'Actor1Geo_Type': 35, 'Actor1Geo_FullName': 36, 'Actor1Geo_CountryCode': 37, 'Actor1Geo_ADM1Code': 38, 'Actor1Geo_ADM2Code': 39, 'Actor1Geo_Lat': 40, 'Actor1Geo_Long': 41, 'Actor1Geo_FeatureID': 42, 'Actor2Geo_Type': 43, 'Actor2Geo_FullName': 44, 'Actor2Geo_CountryCode': 45, 'Actor2Geo_ADM1Code': 46, 'Actor2Geo_ADM2Code': 47, 'Actor2Geo_Lat': 48, 'Actor2Geo_Long': 49, 'Actor2Geo_FeatureID': 50, 'ActionGeo_Type': 51, 'ActionGeo_FullName': 52, 'ActionGeo_CountryCode': 53, 'ActionGeo_ADM1Code': 54, 'ActionGeo_ADM2Code': 55, 'ActionGeo_Lat': 56, 'ActionGeo_Long': 57, 'ActionGeo_FeatureID': 58, 'DATEADDED': 59, 'SOURCEURL': 60})\n",
      "Row((766702058, 20180624, 201806, 2018, 2018.4767, 'MNCUSA', 'MICROSOFT', 'USA', None, None, None, None, 'MNC', None, None, None, None, None, None, None, None, None, None, None, None, 0, '010', '010', '01', 1, 0.0, 10, 1, 10, 1.49769585253456, 0, None, None, None, None, None, None, None, 0, None, None, None, None, None, None, None, 0, None, None, None, None, None, None, None, 20180624004500, 'https://www.zdnet.com/article/microsoft-unexpectedly-drops-windows-7-support-for-some-ancient-cpus/'), {'GLOBALEVENTID': 0, 'SQLDATE': 1, 'MonthYear': 2, 'Year': 3, 'FractionDate': 4, 'Actor1Code': 5, 'Actor1Name': 6, 'Actor1CountryCode': 7, 'Actor1KnownGroupCode': 8, 'Actor1EthnicCode': 9, 'Actor1Religion1Code': 10, 'Actor1Religion2Code': 11, 'Actor1Type1Code': 12, 'Actor1Type2Code': 13, 'Actor1Type3Code': 14, 'Actor2Code': 15, 'Actor2Name': 16, 'Actor2CountryCode': 17, 'Actor2KnownGroupCode': 18, 'Actor2EthnicCode': 19, 'Actor2Religion1Code': 20, 'Actor2Religion2Code': 21, 'Actor2Type1Code': 22, 'Actor2Type2Code': 23, 'Actor2Type3Code': 24, 'IsRootEvent': 25, 'EventCode': 26, 'EventBaseCode': 27, 'EventRootCode': 28, 'QuadClass': 29, 'GoldsteinScale': 30, 'NumMentions': 31, 'NumSources': 32, 'NumArticles': 33, 'AvgTone': 34, 'Actor1Geo_Type': 35, 'Actor1Geo_FullName': 36, 'Actor1Geo_CountryCode': 37, 'Actor1Geo_ADM1Code': 38, 'Actor1Geo_ADM2Code': 39, 'Actor1Geo_Lat': 40, 'Actor1Geo_Long': 41, 'Actor1Geo_FeatureID': 42, 'Actor2Geo_Type': 43, 'Actor2Geo_FullName': 44, 'Actor2Geo_CountryCode': 45, 'Actor2Geo_ADM1Code': 46, 'Actor2Geo_ADM2Code': 47, 'Actor2Geo_Lat': 48, 'Actor2Geo_Long': 49, 'Actor2Geo_FeatureID': 50, 'ActionGeo_Type': 51, 'ActionGeo_FullName': 52, 'ActionGeo_CountryCode': 53, 'ActionGeo_ADM1Code': 54, 'ActionGeo_ADM2Code': 55, 'ActionGeo_Lat': 56, 'ActionGeo_Long': 57, 'ActionGeo_FeatureID': 58, 'DATEADDED': 59, 'SOURCEURL': 60})\n",
      "Row((884652345, 20191106, 201911, 2019, 2019.8384, 'MNC', 'SHIP FINANCE INTERNATIONAL', None, None, None, None, None, 'MNC', None, None, None, None, None, None, None, None, None, None, None, None, 0, '010', '010', '01', 1, 0.0, 10, 1, 10, 0.751879699248118, 0, None, None, None, None, None, None, None, 0, None, None, None, None, None, None, None, 0, None, None, None, None, None, None, None, 20191106023000, 'https://www.wkrb13.com/2019/11/06/ship-finance-international-limited-nysesfl-receives-12-50-average-target-price-from-brokerages.html'), {'GLOBALEVENTID': 0, 'SQLDATE': 1, 'MonthYear': 2, 'Year': 3, 'FractionDate': 4, 'Actor1Code': 5, 'Actor1Name': 6, 'Actor1CountryCode': 7, 'Actor1KnownGroupCode': 8, 'Actor1EthnicCode': 9, 'Actor1Religion1Code': 10, 'Actor1Religion2Code': 11, 'Actor1Type1Code': 12, 'Actor1Type2Code': 13, 'Actor1Type3Code': 14, 'Actor2Code': 15, 'Actor2Name': 16, 'Actor2CountryCode': 17, 'Actor2KnownGroupCode': 18, 'Actor2EthnicCode': 19, 'Actor2Religion1Code': 20, 'Actor2Religion2Code': 21, 'Actor2Type1Code': 22, 'Actor2Type2Code': 23, 'Actor2Type3Code': 24, 'IsRootEvent': 25, 'EventCode': 26, 'EventBaseCode': 27, 'EventRootCode': 28, 'QuadClass': 29, 'GoldsteinScale': 30, 'NumMentions': 31, 'NumSources': 32, 'NumArticles': 33, 'AvgTone': 34, 'Actor1Geo_Type': 35, 'Actor1Geo_FullName': 36, 'Actor1Geo_CountryCode': 37, 'Actor1Geo_ADM1Code': 38, 'Actor1Geo_ADM2Code': 39, 'Actor1Geo_Lat': 40, 'Actor1Geo_Long': 41, 'Actor1Geo_FeatureID': 42, 'Actor2Geo_Type': 43, 'Actor2Geo_FullName': 44, 'Actor2Geo_CountryCode': 45, 'Actor2Geo_ADM1Code': 46, 'Actor2Geo_ADM2Code': 47, 'Actor2Geo_Lat': 48, 'Actor2Geo_Long': 49, 'Actor2Geo_FeatureID': 50, 'ActionGeo_Type': 51, 'ActionGeo_FullName': 52, 'ActionGeo_CountryCode': 53, 'ActionGeo_ADM1Code': 54, 'ActionGeo_ADM2Code': 55, 'ActionGeo_Lat': 56, 'ActionGeo_Long': 57, 'ActionGeo_FeatureID': 58, 'DATEADDED': 59, 'SOURCEURL': 60})\n",
      "Row((701782209, 20171028, 201710, 2017, 2017.8164, 'MNCUSA', 'FTI CONSULTING INC', 'USA', None, None, None, None, 'MNC', None, None, None, None, None, None, None, None, None, None, None, None, 0, '010', '010', '01', 1, 0.0, 20, 1, 20, 0.585119487558512, 0, None, None, None, None, None, None, None, 0, None, None, None, None, None, None, None, 0, None, None, None, None, None, None, None, 20171028010000, 'https://www.dailypolitical.com/2017/10/27/fti-consulting-inc-fcn-releases-quarterly-earnings-results-beats-expectations-by-0-24-eps.html'), {'GLOBALEVENTID': 0, 'SQLDATE': 1, 'MonthYear': 2, 'Year': 3, 'FractionDate': 4, 'Actor1Code': 5, 'Actor1Name': 6, 'Actor1CountryCode': 7, 'Actor1KnownGroupCode': 8, 'Actor1EthnicCode': 9, 'Actor1Religion1Code': 10, 'Actor1Religion2Code': 11, 'Actor1Type1Code': 12, 'Actor1Type2Code': 13, 'Actor1Type3Code': 14, 'Actor2Code': 15, 'Actor2Name': 16, 'Actor2CountryCode': 17, 'Actor2KnownGroupCode': 18, 'Actor2EthnicCode': 19, 'Actor2Religion1Code': 20, 'Actor2Religion2Code': 21, 'Actor2Type1Code': 22, 'Actor2Type2Code': 23, 'Actor2Type3Code': 24, 'IsRootEvent': 25, 'EventCode': 26, 'EventBaseCode': 27, 'EventRootCode': 28, 'QuadClass': 29, 'GoldsteinScale': 30, 'NumMentions': 31, 'NumSources': 32, 'NumArticles': 33, 'AvgTone': 34, 'Actor1Geo_Type': 35, 'Actor1Geo_FullName': 36, 'Actor1Geo_CountryCode': 37, 'Actor1Geo_ADM1Code': 38, 'Actor1Geo_ADM2Code': 39, 'Actor1Geo_Lat': 40, 'Actor1Geo_Long': 41, 'Actor1Geo_FeatureID': 42, 'Actor2Geo_Type': 43, 'Actor2Geo_FullName': 44, 'Actor2Geo_CountryCode': 45, 'Actor2Geo_ADM1Code': 46, 'Actor2Geo_ADM2Code': 47, 'Actor2Geo_Lat': 48, 'Actor2Geo_Long': 49, 'Actor2Geo_FeatureID': 50, 'ActionGeo_Type': 51, 'ActionGeo_FullName': 52, 'ActionGeo_CountryCode': 53, 'ActionGeo_ADM1Code': 54, 'ActionGeo_ADM2Code': 55, 'ActionGeo_Lat': 56, 'ActionGeo_Long': 57, 'ActionGeo_FeatureID': 58, 'DATEADDED': 59, 'SOURCEURL': 60})\n",
      "Row((587995658, 20161012, 201610, 2016, 2016.7726, 'BUS', 'BUSINESS', None, None, None, None, None, 'BUS', None, None, None, None, None, None, None, None, None, None, None, None, 1, '120', '120', '12', 3, -4.0, 10, 1, 10, 0.69808027923211, 0, None, None, None, None, None, None, None, 0, None, None, None, None, None, None, None, 0, None, None, None, None, None, None, None, 20161012000000, 'http://www.business2community.com/human-resources/job-search-tactics-work-01673872'), {'GLOBALEVENTID': 0, 'SQLDATE': 1, 'MonthYear': 2, 'Year': 3, 'FractionDate': 4, 'Actor1Code': 5, 'Actor1Name': 6, 'Actor1CountryCode': 7, 'Actor1KnownGroupCode': 8, 'Actor1EthnicCode': 9, 'Actor1Religion1Code': 10, 'Actor1Religion2Code': 11, 'Actor1Type1Code': 12, 'Actor1Type2Code': 13, 'Actor1Type3Code': 14, 'Actor2Code': 15, 'Actor2Name': 16, 'Actor2CountryCode': 17, 'Actor2KnownGroupCode': 18, 'Actor2EthnicCode': 19, 'Actor2Religion1Code': 20, 'Actor2Religion2Code': 21, 'Actor2Type1Code': 22, 'Actor2Type2Code': 23, 'Actor2Type3Code': 24, 'IsRootEvent': 25, 'EventCode': 26, 'EventBaseCode': 27, 'EventRootCode': 28, 'QuadClass': 29, 'GoldsteinScale': 30, 'NumMentions': 31, 'NumSources': 32, 'NumArticles': 33, 'AvgTone': 34, 'Actor1Geo_Type': 35, 'Actor1Geo_FullName': 36, 'Actor1Geo_CountryCode': 37, 'Actor1Geo_ADM1Code': 38, 'Actor1Geo_ADM2Code': 39, 'Actor1Geo_Lat': 40, 'Actor1Geo_Long': 41, 'Actor1Geo_FeatureID': 42, 'Actor2Geo_Type': 43, 'Actor2Geo_FullName': 44, 'Actor2Geo_CountryCode': 45, 'Actor2Geo_ADM1Code': 46, 'Actor2Geo_ADM2Code': 47, 'Actor2Geo_Lat': 48, 'Actor2Geo_Long': 49, 'Actor2Geo_FeatureID': 50, 'ActionGeo_Type': 51, 'ActionGeo_FullName': 52, 'ActionGeo_CountryCode': 53, 'ActionGeo_ADM1Code': 54, 'ActionGeo_ADM2Code': 55, 'ActionGeo_Lat': 56, 'ActionGeo_Long': 57, 'ActionGeo_FeatureID': 58, 'DATEADDED': 59, 'SOURCEURL': 60})\n",
      "Row((880912857, 20191020, 201910, 2019, 2019.7945, 'BUS', 'COMPANY', None, None, None, None, None, 'BUS', None, None, None, None, None, None, None, None, None, None, None, None, 1, '071', '071', '07', 2, 7.4, 10, 1, 10, 1.23076923076924, 0, None, None, None, None, None, None, None, 0, None, None, None, None, None, None, None, 0, None, None, None, None, None, None, None, 20191020000000, 'https://www.wkrb13.com/2019/10/19/1-65-earnings-per-share-expected-for-hill-rom-holdings-inc-nysehrc-this-quarter-2.html'), {'GLOBALEVENTID': 0, 'SQLDATE': 1, 'MonthYear': 2, 'Year': 3, 'FractionDate': 4, 'Actor1Code': 5, 'Actor1Name': 6, 'Actor1CountryCode': 7, 'Actor1KnownGroupCode': 8, 'Actor1EthnicCode': 9, 'Actor1Religion1Code': 10, 'Actor1Religion2Code': 11, 'Actor1Type1Code': 12, 'Actor1Type2Code': 13, 'Actor1Type3Code': 14, 'Actor2Code': 15, 'Actor2Name': 16, 'Actor2CountryCode': 17, 'Actor2KnownGroupCode': 18, 'Actor2EthnicCode': 19, 'Actor2Religion1Code': 20, 'Actor2Religion2Code': 21, 'Actor2Type1Code': 22, 'Actor2Type2Code': 23, 'Actor2Type3Code': 24, 'IsRootEvent': 25, 'EventCode': 26, 'EventBaseCode': 27, 'EventRootCode': 28, 'QuadClass': 29, 'GoldsteinScale': 30, 'NumMentions': 31, 'NumSources': 32, 'NumArticles': 33, 'AvgTone': 34, 'Actor1Geo_Type': 35, 'Actor1Geo_FullName': 36, 'Actor1Geo_CountryCode': 37, 'Actor1Geo_ADM1Code': 38, 'Actor1Geo_ADM2Code': 39, 'Actor1Geo_Lat': 40, 'Actor1Geo_Long': 41, 'Actor1Geo_FeatureID': 42, 'Actor2Geo_Type': 43, 'Actor2Geo_FullName': 44, 'Actor2Geo_CountryCode': 45, 'Actor2Geo_ADM1Code': 46, 'Actor2Geo_ADM2Code': 47, 'Actor2Geo_Lat': 48, 'Actor2Geo_Long': 49, 'Actor2Geo_FeatureID': 50, 'ActionGeo_Type': 51, 'ActionGeo_FullName': 52, 'ActionGeo_CountryCode': 53, 'ActionGeo_ADM1Code': 54, 'ActionGeo_ADM2Code': 55, 'ActionGeo_Lat': 56, 'ActionGeo_Long': 57, 'ActionGeo_FeatureID': 58, 'DATEADDED': 59, 'SOURCEURL': 60})\n",
      "Row((884375623, 20191105, 201911, 2019, 2019.8356, 'BUS', 'INDUSTRY', None, None, None, None, None, 'BUS', None, None, None, None, None, None, None, None, None, None, None, None, 1, '071', '071', '07', 2, 7.4, 20, 1, 10, 2.57510729613734, 0, None, None, None, None, None, None, None, 0, None, None, None, None, None, None, None, 0, None, None, None, None, None, None, None, 20191105003000, 'https://news.yahoo.com/twistles-16-million-financing-tops-235210938.html'), {'GLOBALEVENTID': 0, 'SQLDATE': 1, 'MonthYear': 2, 'Year': 3, 'FractionDate': 4, 'Actor1Code': 5, 'Actor1Name': 6, 'Actor1CountryCode': 7, 'Actor1KnownGroupCode': 8, 'Actor1EthnicCode': 9, 'Actor1Religion1Code': 10, 'Actor1Religion2Code': 11, 'Actor1Type1Code': 12, 'Actor1Type2Code': 13, 'Actor1Type3Code': 14, 'Actor2Code': 15, 'Actor2Name': 16, 'Actor2CountryCode': 17, 'Actor2KnownGroupCode': 18, 'Actor2EthnicCode': 19, 'Actor2Religion1Code': 20, 'Actor2Religion2Code': 21, 'Actor2Type1Code': 22, 'Actor2Type2Code': 23, 'Actor2Type3Code': 24, 'IsRootEvent': 25, 'EventCode': 26, 'EventBaseCode': 27, 'EventRootCode': 28, 'QuadClass': 29, 'GoldsteinScale': 30, 'NumMentions': 31, 'NumSources': 32, 'NumArticles': 33, 'AvgTone': 34, 'Actor1Geo_Type': 35, 'Actor1Geo_FullName': 36, 'Actor1Geo_CountryCode': 37, 'Actor1Geo_ADM1Code': 38, 'Actor1Geo_ADM2Code': 39, 'Actor1Geo_Lat': 40, 'Actor1Geo_Long': 41, 'Actor1Geo_FeatureID': 42, 'Actor2Geo_Type': 43, 'Actor2Geo_FullName': 44, 'Actor2Geo_CountryCode': 45, 'Actor2Geo_ADM1Code': 46, 'Actor2Geo_ADM2Code': 47, 'Actor2Geo_Lat': 48, 'Actor2Geo_Long': 49, 'Actor2Geo_FeatureID': 50, 'ActionGeo_Type': 51, 'ActionGeo_FullName': 52, 'ActionGeo_CountryCode': 53, 'ActionGeo_ADM1Code': 54, 'ActionGeo_ADM2Code': 55, 'ActionGeo_Lat': 56, 'ActionGeo_Long': 57, 'ActionGeo_FeatureID': 58, 'DATEADDED': 59, 'SOURCEURL': 60})\n",
      "Row((880321598, 20191017, 201910, 2019, 2019.7863, 'MNCUSAHLH', 'ABBOTT LABORATORIES', 'USA', None, None, None, None, 'MNC', 'HLH', None, None, None, None, None, None, None, None, None, None, None, 0, '010', '010', '01', 1, 0.0, 10, 1, 10, 1.0, 0, None, None, None, None, None, None, None, 0, None, None, None, None, None, None, None, 0, None, None, None, None, None, None, None, 20191017101500, 'https://www.wkrb13.com/2019/10/17/cerebellum-gp-llc-makes-new-133000-investment-in-abbott-laboratories-nyseabt.html'), {'GLOBALEVENTID': 0, 'SQLDATE': 1, 'MonthYear': 2, 'Year': 3, 'FractionDate': 4, 'Actor1Code': 5, 'Actor1Name': 6, 'Actor1CountryCode': 7, 'Actor1KnownGroupCode': 8, 'Actor1EthnicCode': 9, 'Actor1Religion1Code': 10, 'Actor1Religion2Code': 11, 'Actor1Type1Code': 12, 'Actor1Type2Code': 13, 'Actor1Type3Code': 14, 'Actor2Code': 15, 'Actor2Name': 16, 'Actor2CountryCode': 17, 'Actor2KnownGroupCode': 18, 'Actor2EthnicCode': 19, 'Actor2Religion1Code': 20, 'Actor2Religion2Code': 21, 'Actor2Type1Code': 22, 'Actor2Type2Code': 23, 'Actor2Type3Code': 24, 'IsRootEvent': 25, 'EventCode': 26, 'EventBaseCode': 27, 'EventRootCode': 28, 'QuadClass': 29, 'GoldsteinScale': 30, 'NumMentions': 31, 'NumSources': 32, 'NumArticles': 33, 'AvgTone': 34, 'Actor1Geo_Type': 35, 'Actor1Geo_FullName': 36, 'Actor1Geo_CountryCode': 37, 'Actor1Geo_ADM1Code': 38, 'Actor1Geo_ADM2Code': 39, 'Actor1Geo_Lat': 40, 'Actor1Geo_Long': 41, 'Actor1Geo_FeatureID': 42, 'Actor2Geo_Type': 43, 'Actor2Geo_FullName': 44, 'Actor2Geo_CountryCode': 45, 'Actor2Geo_ADM1Code': 46, 'Actor2Geo_ADM2Code': 47, 'Actor2Geo_Lat': 48, 'Actor2Geo_Long': 49, 'Actor2Geo_FeatureID': 50, 'ActionGeo_Type': 51, 'ActionGeo_FullName': 52, 'ActionGeo_CountryCode': 53, 'ActionGeo_ADM1Code': 54, 'ActionGeo_ADM2Code': 55, 'ActionGeo_Lat': 56, 'ActionGeo_Long': 57, 'ActionGeo_FeatureID': 58, 'DATEADDED': 59, 'SOURCEURL': 60})\n",
      "Row((847457350, 20190524, 201905, 2019, 2019.3945, 'BUS', 'COMPANY', None, None, None, None, None, 'BUS', None, None, None, None, None, None, None, None, None, None, None, None, 0, '110', '110', '11', 3, -2.0, 5, 1, 5, 1.62241887905604, 0, None, None, None, None, None, None, None, 0, None, None, None, None, None, None, None, 0, None, None, None, None, None, None, None, 20190524001500, 'https://news.yahoo.com/institutions-own-grange-resources-limited-231759427.html'), {'GLOBALEVENTID': 0, 'SQLDATE': 1, 'MonthYear': 2, 'Year': 3, 'FractionDate': 4, 'Actor1Code': 5, 'Actor1Name': 6, 'Actor1CountryCode': 7, 'Actor1KnownGroupCode': 8, 'Actor1EthnicCode': 9, 'Actor1Religion1Code': 10, 'Actor1Religion2Code': 11, 'Actor1Type1Code': 12, 'Actor1Type2Code': 13, 'Actor1Type3Code': 14, 'Actor2Code': 15, 'Actor2Name': 16, 'Actor2CountryCode': 17, 'Actor2KnownGroupCode': 18, 'Actor2EthnicCode': 19, 'Actor2Religion1Code': 20, 'Actor2Religion2Code': 21, 'Actor2Type1Code': 22, 'Actor2Type2Code': 23, 'Actor2Type3Code': 24, 'IsRootEvent': 25, 'EventCode': 26, 'EventBaseCode': 27, 'EventRootCode': 28, 'QuadClass': 29, 'GoldsteinScale': 30, 'NumMentions': 31, 'NumSources': 32, 'NumArticles': 33, 'AvgTone': 34, 'Actor1Geo_Type': 35, 'Actor1Geo_FullName': 36, 'Actor1Geo_CountryCode': 37, 'Actor1Geo_ADM1Code': 38, 'Actor1Geo_ADM2Code': 39, 'Actor1Geo_Lat': 40, 'Actor1Geo_Long': 41, 'Actor1Geo_FeatureID': 42, 'Actor2Geo_Type': 43, 'Actor2Geo_FullName': 44, 'Actor2Geo_CountryCode': 45, 'Actor2Geo_ADM1Code': 46, 'Actor2Geo_ADM2Code': 47, 'Actor2Geo_Lat': 48, 'Actor2Geo_Long': 49, 'Actor2Geo_FeatureID': 50, 'ActionGeo_Type': 51, 'ActionGeo_FullName': 52, 'ActionGeo_CountryCode': 53, 'ActionGeo_ADM1Code': 54, 'ActionGeo_ADM2Code': 55, 'ActionGeo_Lat': 56, 'ActionGeo_Long': 57, 'ActionGeo_FeatureID': 58, 'DATEADDED': 59, 'SOURCEURL': 60})\n",
      "Row((678487772, 20170804, 201708, 2017, 2017.5863, 'BUS', 'COMPANIES', None, None, None, None, None, 'BUS', None, None, None, None, None, None, None, None, None, None, None, None, 1, '010', '010', '01', 1, 0.0, 20, 2, 20, 1.43080520846306, 0, None, None, None, None, None, None, None, 0, None, None, None, None, None, None, None, 0, None, None, None, None, None, None, None, 20170804000000, 'http://www.crainsdetroit.com/article/20170803/news/635581/new-accounting-rules-for-nonprofits-to-take-effect-in-december'), {'GLOBALEVENTID': 0, 'SQLDATE': 1, 'MonthYear': 2, 'Year': 3, 'FractionDate': 4, 'Actor1Code': 5, 'Actor1Name': 6, 'Actor1CountryCode': 7, 'Actor1KnownGroupCode': 8, 'Actor1EthnicCode': 9, 'Actor1Religion1Code': 10, 'Actor1Religion2Code': 11, 'Actor1Type1Code': 12, 'Actor1Type2Code': 13, 'Actor1Type3Code': 14, 'Actor2Code': 15, 'Actor2Name': 16, 'Actor2CountryCode': 17, 'Actor2KnownGroupCode': 18, 'Actor2EthnicCode': 19, 'Actor2Religion1Code': 20, 'Actor2Religion2Code': 21, 'Actor2Type1Code': 22, 'Actor2Type2Code': 23, 'Actor2Type3Code': 24, 'IsRootEvent': 25, 'EventCode': 26, 'EventBaseCode': 27, 'EventRootCode': 28, 'QuadClass': 29, 'GoldsteinScale': 30, 'NumMentions': 31, 'NumSources': 32, 'NumArticles': 33, 'AvgTone': 34, 'Actor1Geo_Type': 35, 'Actor1Geo_FullName': 36, 'Actor1Geo_CountryCode': 37, 'Actor1Geo_ADM1Code': 38, 'Actor1Geo_ADM2Code': 39, 'Actor1Geo_Lat': 40, 'Actor1Geo_Long': 41, 'Actor1Geo_FeatureID': 42, 'Actor2Geo_Type': 43, 'Actor2Geo_FullName': 44, 'Actor2Geo_CountryCode': 45, 'Actor2Geo_ADM1Code': 46, 'Actor2Geo_ADM2Code': 47, 'Actor2Geo_Lat': 48, 'Actor2Geo_Long': 49, 'Actor2Geo_FeatureID': 50, 'ActionGeo_Type': 51, 'ActionGeo_FullName': 52, 'ActionGeo_CountryCode': 53, 'ActionGeo_ADM1Code': 54, 'ActionGeo_ADM2Code': 55, 'ActionGeo_Lat': 56, 'ActionGeo_Long': 57, 'ActionGeo_FeatureID': 58, 'DATEADDED': 59, 'SOURCEURL': 60})\n"
     ]
    }
   ],
   "source": [
    "print(\"The query data:\")\n",
    "for row in query_job:\n",
    "    # Row values can be accessed by field name or index.\n",
    "    print(row)"
   ]
  },
  {
   "cell_type": "code",
   "execution_count": null,
   "metadata": {},
   "outputs": [],
   "source": []
  }
 ],
 "metadata": {
  "kernelspec": {
   "display_name": "Python 3",
   "language": "python",
   "name": "python3"
  },
  "language_info": {
   "codemirror_mode": {
    "name": "ipython",
    "version": 3
   },
   "file_extension": ".py",
   "mimetype": "text/x-python",
   "name": "python",
   "nbconvert_exporter": "python",
   "pygments_lexer": "ipython3",
   "version": "3.7.3"
  }
 },
 "nbformat": 4,
 "nbformat_minor": 2
}
